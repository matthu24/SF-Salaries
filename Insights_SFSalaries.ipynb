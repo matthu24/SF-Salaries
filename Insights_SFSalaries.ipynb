{
 "cells": [
  {
   "cell_type": "markdown",
   "metadata": {},
   "source": [
    "#Insights SF salary Data"
   ]
  },
  {
   "cell_type": "markdown",
   "metadata": {},
   "source": [
    "##Explore and Clean"
   ]
  },
  {
   "cell_type": "code",
   "execution_count": 14,
   "metadata": {
    "collapsed": false,
    "scrolled": true
   },
   "outputs": [
    {
     "name": "stdout",
     "output_type": "stream",
     "text": [
      "   Id       EmployeeName                                        JobTitle  \\\n",
      "0   1     NATHANIEL FORD  GENERAL MANAGER-METROPOLITAN TRANSIT AUTHORITY   \n",
      "1   2       GARY JIMENEZ                 CAPTAIN III (POLICE DEPARTMENT)   \n",
      "2   3     ALBERT PARDINI                 CAPTAIN III (POLICE DEPARTMENT)   \n",
      "3   4  CHRISTOPHER CHONG            WIRE ROPE CABLE MAINTENANCE MECHANIC   \n",
      "\n",
      "     BasePay OvertimePay   OtherPay Benefits   TotalPay  TotalPayBenefits  \\\n",
      "0  167411.18           0  400184.25      NaN  567595.43         567595.43   \n",
      "1  155966.02   245131.88  137811.38      NaN  538909.28         538909.28   \n",
      "2  212739.13   106088.18    16452.6      NaN  335279.91         335279.91   \n",
      "3      77916    56120.71   198306.9      NaN  332343.61         332343.61   \n",
      "\n",
      "   Year  Notes         Agency Status  \n",
      "0  2011    NaN  San Francisco    NaN  \n",
      "1  2011    NaN  San Francisco    NaN  \n",
      "2  2011    NaN  San Francisco    NaN  \n",
      "3  2011    NaN  San Francisco    NaN  \n"
     ]
    }
   ],
   "source": [
    "import pandas as pd\n",
    "%matplotlib inline\n",
    "import matplotlib.pyplot as plt\n",
    "import numpy as np\n",
    "pd.set_option('chained_assignment',None)\n",
    "\n",
    "salary = pd.read_csv(\"/Users/matthu24/.spyder2-py3/salaries.csv\",low_memory=False)\n",
    "print(salary.head(4))"
   ]
  },
  {
   "cell_type": "code",
   "execution_count": 2,
   "metadata": {
    "collapsed": false
   },
   "outputs": [
    {
     "data": {
      "text/plain": [
       "Index(['Id', 'EmployeeName', 'JobTitle', 'BasePay', 'OvertimePay', 'OtherPay',\n",
       "       'Benefits', 'TotalPay', 'TotalPayBenefits', 'Year', 'Notes', 'Agency',\n",
       "       'Status'],\n",
       "      dtype='object')"
      ]
     },
     "execution_count": 2,
     "metadata": {},
     "output_type": "execute_result"
    }
   ],
   "source": [
    "salary.columns"
   ]
  },
  {
   "cell_type": "code",
   "execution_count": 3,
   "metadata": {
    "collapsed": false
   },
   "outputs": [
    {
     "name": "stdout",
     "output_type": "stream",
     "text": [
      "Id                       0\n",
      "EmployeeName             0\n",
      "JobTitle                 0\n",
      "BasePay                605\n",
      "OvertimePay              0\n",
      "OtherPay                 0\n",
      "Benefits             36159\n",
      "TotalPay                 0\n",
      "TotalPayBenefits         0\n",
      "Year                     0\n",
      "Notes               148654\n",
      "Agency                   0\n",
      "Status              110535\n",
      "dtype: int64\n"
     ]
    }
   ],
   "source": [
    "null_count_columns = salary.isnull().sum()\n",
    "print(null_count_columns)"
   ]
  },
  {
   "cell_type": "markdown",
   "metadata": {},
   "source": [
    "Eliminate rows where base pay is either blank or \"not provided\".  Also change base pay type to float."
   ]
  },
  {
   "cell_type": "code",
   "execution_count": 4,
   "metadata": {
    "collapsed": true
   },
   "outputs": [],
   "source": [
    "salary[\"BasePay\"] = salary[\"BasePay\"].fillna(0)\n",
    "salary = salary[(salary[\"BasePay\"]!=\"Not Provided\")&(salary[\"BasePay\"]!=0)]\n",
    "salary[\"BasePay\"] = salary[\"BasePay\"].astype(float)"
   ]
  },
  {
   "cell_type": "markdown",
   "metadata": {},
   "source": [
    "Eliminate rows where base pay is negative."
   ]
  },
  {
   "cell_type": "code",
   "execution_count": 5,
   "metadata": {
    "collapsed": true
   },
   "outputs": [],
   "source": [
    "neg_basepay = salary[salary[\"BasePay\"]<=0]\n",
    "#filter out negative pay\n",
    "salary = salary[(salary[\"BasePay\"]>0)]"
   ]
  },
  {
   "cell_type": "markdown",
   "metadata": {},
   "source": [
    "six pay categories: basepay, overtimepay, otherpay,benefits, \n",
    "totalpay,totalpaybenefits\n",
    "Pay formula: BasePay + OvertimePay + OtherPay = TotalPay\n",
    "TotalPay + Benefits = TotalPayBenefits"
   ]
  },
  {
   "cell_type": "markdown",
   "metadata": {},
   "source": [
    "Change overtime pay, other pay, and benefits to float data types.  Check for missing values again and use describe method."
   ]
  },
  {
   "cell_type": "code",
   "execution_count": 6,
   "metadata": {
    "collapsed": false
   },
   "outputs": [
    {
     "name": "stdout",
     "output_type": "stream",
     "text": [
      "Id                       0\n",
      "EmployeeName             0\n",
      "JobTitle                 0\n",
      "BasePay                  0\n",
      "OvertimePay              0\n",
      "OtherPay                 0\n",
      "Benefits             35707\n",
      "TotalPay                 0\n",
      "TotalPayBenefits         0\n",
      "Year                     0\n",
      "Notes               146736\n",
      "Agency                   0\n",
      "Status              109043\n",
      "dtype: int64\n",
      "                  Id        BasePay    OvertimePay       OtherPay  \\\n",
      "count  146736.000000  146736.000000  146736.000000  146736.000000   \n",
      "mean    74116.255322   66917.130321    5130.611405    3638.405132   \n",
      "std     42906.012688   42491.578949   11513.508640    7964.167855   \n",
      "min         1.000000       6.040000      -0.010000   -7058.590000   \n",
      "25%     37136.750000   35411.025000       0.000000       0.000000   \n",
      "50%     74251.500000   65258.010000       0.000000     809.710000   \n",
      "75%    111540.250000   94984.072500    4768.055000    4250.000000   \n",
      "max    148621.000000  319275.010000  245131.880000  400184.250000   \n",
      "\n",
      "            Benefits       TotalPay  TotalPayBenefits           Year  Notes  \n",
      "count  111029.000000  146736.000000     146736.000000  146736.000000      0  \n",
      "mean    25298.874335   75686.146858      94828.747982    2012.522571    NaN  \n",
      "std     15286.295889   50175.006143      62384.972357       1.118005    NaN  \n",
      "min         0.000000      15.500000         15.660000    2011.000000    NaN  \n",
      "25%     12928.710000   38782.057500      47047.372500    2012.000000    NaN  \n",
      "50%     28817.340000   72094.010000      93298.930000    2013.000000    NaN  \n",
      "75%     35668.580000  106492.070000     133526.355000    2014.000000    NaN  \n",
      "max     96570.660000  567595.430000     567595.430000    2014.000000    NaN  \n"
     ]
    }
   ],
   "source": [
    "salary[\"OvertimePay\"] = salary[\"OvertimePay\"].astype(float)\n",
    "salary[\"OtherPay\"] = salary[\"OtherPay\"].astype(float)\n",
    "salary[\"Benefits\"] = salary[\"Benefits\"].astype(float)\n",
    "\n",
    "missing_values = salary.isnull().sum()\n",
    "print(missing_values)\n",
    "describe = salary.describe()\n",
    "print(describe)"
   ]
  },
  {
   "cell_type": "markdown",
   "metadata": {
    "collapsed": true
   },
   "source": [
    "##Analyze"
   ]
  },
  {
   "cell_type": "markdown",
   "metadata": {},
   "source": [
    "1. What is the base pay distribution in SF?"
   ]
  },
  {
   "cell_type": "code",
   "execution_count": 7,
   "metadata": {
    "collapsed": false,
    "scrolled": true
   },
   "outputs": [
    {
     "data": {
      "image/png": "[encoded data removed]",
      "text/plain": [
       "<matplotlib.figure.Figure at 0x10a751f60>"
      ]
     },
     "metadata": {},
     "output_type": "display_data"
    }
   ],
   "source": [
    "%matplotlib inline\n",
    "import matplotlib.pyplot as plt\n",
    "plt.hist(salary[\"BasePay\"],bins = 20)\n",
    "plt.title(\"Base Pay Distribution in SF\")\n",
    "plt.ylabel(\"Frequency\")\n",
    "plt.xlabel(\"Salary\")\n",
    "plt.show()"
   ]
  },
  {
   "cell_type": "markdown",
   "metadata": {},
   "source": [
    "2. How did the average salary change over time in SF?"
   ]
  },
  {
   "cell_type": "code",
   "execution_count": 8,
   "metadata": {
    "collapsed": false,
    "scrolled": true
   },
   "outputs": [
    {
     "data": {
      "image/png": "[encoded data removed]",
      "text/plain": [
       "<matplotlib.figure.Figure at 0x10a6bf470>"
      ]
     },
     "metadata": {},
     "output_type": "display_data"
    }
   ],
   "source": [
    "#Average total pay by year in SF\n",
    "Year_totalPay = pd.DataFrame(salary[[\"Year\",\"TotalPay\"]])\n",
    "#PIVOT TABLE USES \"VALUES\" IF WANT TO SUM THE ACTUAL VALUES IN THE SECOND COLUMN(NONINDEX COLUMN)\n",
    "#PIVOT TABLE USES \"COLUMNS\" IF WANT TO JUST COUNT THE NUMBER OF OCCURRENCES\n",
    "Year_totalPay_pivot = pd.pivot_table(Year_totalPay,index = 'Year',values = ['TotalPay'], aggfunc=np.mean )\n",
    "Years = salary[\"Year\"].value_counts()\n",
    "\n",
    "fig = plt.figure(figsize=(7,5))\n",
    "ax = fig.add_subplot(1,1,1)\n",
    "ax.plot(Year_totalPay_pivot.index, Year_totalPay_pivot.values)\n",
    "\n",
    "plt.title('Average Total Pay by Year in SF')\n",
    "plt.xlabel(\"Year\")\n",
    "plt.ylabel(\"Average Total Pay\")\n",
    "plt.show()\n"
   ]
  },
  {
   "cell_type": "markdown",
   "metadata": {},
   "source": [
    "3. Break up the data into job categories, and graph the number of people in each job for 2012."
   ]
  },
  {
   "cell_type": "code",
   "execution_count": 9,
   "metadata": {
    "collapsed": false
   },
   "outputs": [
    {
     "data": {
      "image/png": "[encoded data removed]",
      "text/plain": [
       "<matplotlib.figure.Figure at 0x10a5bb4a8>"
      ]
     },
     "metadata": {},
     "output_type": "display_data"
    }
   ],
   "source": [
    "#job categories\n",
    "Job_counts = salary[\"JobTitle\"].value_counts()\n",
    "#Job groups: \n",
    "#transit/TRANSIT, Nurse/NURSE/Patient Care, Public Svc/Public Service, \n",
    "#Custodian, Police/Deputy, Fire, Recreation,Attorney, Porter, Sergeant,\n",
    "#Laborer, Gardener, Parking, Clerk, Engineer, Analyst\n",
    "\n",
    "def job_category(jobTitle):\n",
    "    newJobTitle = jobTitle\n",
    "    if \"TRANSIT\" in jobTitle:\n",
    "        newJobTitle = \"Transit\"\n",
    "    elif \"Transit\" in jobTitle:\n",
    "        newJobTitle = \"Transit\"\n",
    "    elif \"NURSE\" in jobTitle:\n",
    "        newJobTitle = \"Nurse\"\n",
    "    elif \"Nurse\" in jobTitle:\n",
    "        newJobTitle = \"Nurse\"\n",
    "    elif \"PATIENT CARE\" in jobTitle:\n",
    "        newJobTitle = \"Nurse\"\n",
    "    elif \"Patient care\" in jobTitle:\n",
    "        newJobTitle = \"Nurse\"\n",
    "    elif \"MEDICAL\" in jobTitle:\n",
    "        newJobTitle = \"Nurse\"\n",
    "    elif \"Medical\" in jobTitle:\n",
    "        newJobTitle = \"Nurse\"\n",
    "    elif \"CUSTODIAN\" in jobTitle:\n",
    "        newJobTitle = \"Custodian\"\n",
    "    elif \"Custodian\" in jobTitle:\n",
    "        newJobTitle = \"Custodian\"\n",
    "    elif \"FIRE\" in jobTitle:\n",
    "        newJobTitle = \"Fire\"\n",
    "    elif \"Fire\" in jobTitle:\n",
    "        newJobTitle = \"Fire\"\n",
    "    elif \"FIREFIGHTER\" in jobTitle:\n",
    "        newJobTitle = \"Fire\"\n",
    "    elif \"Firefighter\" in jobTitle:\n",
    "        newJobTitle = \"Firefighter\"\n",
    "    elif \"POLICE\" in jobTitle:\n",
    "        newJobTitle = \"Police\"\n",
    "    elif \"Police\" in jobTitle:\n",
    "        newJobTitle = \"Police\"\n",
    "    elif \"DEPUTY\" in jobTitle:\n",
    "        newJobTitle = \"Police\"\n",
    "    elif \"Deputy\" in jobTitle:\n",
    "        newJobTitle = \"Police\"\n",
    "    elif \"CLERK\" in jobTitle:\n",
    "        newJobTitle = \"Clerk\"\n",
    "    elif \"Clerk\" in jobTitle:\n",
    "        newJobTitle = \"Clerk\"\n",
    "    elif \"ATTORNEY\" in jobTitle:\n",
    "        newJobTitle = \"Attorney\"\n",
    "    elif \"Attorney\" in jobTitle:\n",
    "        newJobTitle = \"Attorney\"\n",
    "    elif \"PUBLIC SVC\" in jobTitle:\n",
    "        newJobTitle = \"Public Service\"\n",
    "    elif \"Public svc\" in jobTitle:\n",
    "        newJobTitle = \"Public Service\"\n",
    "    elif \"PUBLIC SERVICE\" in jobTitle:\n",
    "        newJobTitle = \"Public Service\"\n",
    "    elif \"RECREATION\" in jobTitle:\n",
    "        newJobTitle = \"Recreation\"\n",
    "    elif \"Recreaction\" in jobTitle:\n",
    "        newJobTitle = \"Recreation\"\n",
    "    elif \"PORTER\" in jobTitle:\n",
    "        newJobTitle = \"Porter\"\n",
    "    elif \"Porter\" in jobTitle:\n",
    "        newJobTitle = \"Porter\"\n",
    "    elif \"LABORER\" in jobTitle:\n",
    "        newJobTitle = \"Laborer\"\n",
    "    elif \"Laborer\" in jobTitle:\n",
    "        newJobTitle = \"Laborer\"\n",
    "    elif \"GARDENER\" in jobTitle:\n",
    "        newJobTitle = \"Laborer\"\n",
    "    elif \"Gardener\" in jobTitle:\n",
    "        newJobTitle = \"Laborer\"\n",
    "    elif \"PARKING CONTROL\" in jobTitle:\n",
    "        newJobTitle = \"Police\"\n",
    "    elif \"Parking Control\" in jobTitle:\n",
    "        newJobTitle = \"Police\"\n",
    "    elif \"ENGINEER\" in jobTitle:\n",
    "        newJobTitle = \"Engineer\"\n",
    "    elif \"Engineer\" in jobTitle:\n",
    "        newJobTitle = \"Engineer\"\n",
    "    elif \"MECHANIC\" in jobTitle:\n",
    "        newJobTitle = \"Mechanic\"\n",
    "    elif \"Mechanic\" in jobTitle:\n",
    "        newJobTitle = \"Mechanic\"\n",
    "    else:\n",
    "        newJobTitle = \"Other\"\n",
    "    return newJobTitle\n",
    "    \n",
    "salary_2012= salary[salary[\"Year\"] == 2012]\n",
    "salary_2012[\"JobCategory\"]=salary_2012[\"JobTitle\"].map(lambda x: job_category(x))\n",
    "\n",
    "job_category_count_2012 = salary_2012[\"JobCategory\"].value_counts()\n",
    "#take out the \"other\"\n",
    "job_category_count_2012 = job_category_count_2012.iloc[1:]\n",
    "job_category_count_2012.plot(kind = 'bar')\n",
    "plt.ylabel(\"Number Employed\")\n",
    "plt.title(\"SF Job Break-down in 2012\")\n",
    "plt.show()\n",
    "#do job category count for all four years\n",
    "salary[\"JobCategory\"]=salary[\"JobTitle\"].map(lambda x: job_category(x))"
   ]
  },
  {
   "cell_type": "markdown",
   "metadata": {},
   "source": [
    "4. How are base pay, overtime pay, and benefits allocated among the different job groups?"
   ]
  },
  {
   "cell_type": "code",
   "execution_count": 10,
   "metadata": {
    "collapsed": false
   },
   "outputs": [
    {
     "name": "stdout",
     "output_type": "stream",
     "text": [
      "         Jobs\n",
      "0       Nurse\n",
      "1      Police\n",
      "2     Transit\n",
      "3       Clerk\n",
      "4        Fire\n",
      "5    Engineer\n",
      "6   Custodian\n",
      "7     Laborer\n",
      "8    Attorney\n",
      "9      Porter\n",
      "10   Mechanic\n"
     ]
    }
   ],
   "source": [
    "#mean average total PAY by occupation for four years\n",
    "job_categories_df = pd.DataFrame({\"Jobs\":job_category_count_2012.index})\n",
    "\n",
    "#apply fcn on category list\n",
    "def salary_by_category(job_category):\n",
    "    #filter out salary2012 based on jobcategory\n",
    "    category_filter = salary[salary[\"JobCategory\"] == job_category]\n",
    "    mean_salary = category_filter[\"TotalPay\"].mean()\n",
    "    return mean_salary\n",
    "\n",
    "#do same but break up into 1. base pay, 2. overtime, 3. benefits\n",
    "#job_categories_2012_df = pd.DataFrame({\"Jobs\":job_category_count_2012.index})\n",
    "\n",
    "#apply fcn on category list\n",
    "def basepay_by_category(job_category):\n",
    "    #filter out salary2012 based on jobcategory\n",
    "    category_filter = salary[salary[\"JobCategory\"] == job_category]\n",
    "    base_pay = category_filter[\"BasePay\"].mean()\n",
    "    return base_pay\n",
    "\n",
    "def overtime_by_category(job_category):\n",
    "    #filter out salary2012 based on jobcategory\n",
    "    category_filter = salary[salary[\"JobCategory\"] == job_category]\n",
    "    base_pay = category_filter[\"OvertimePay\"].mean()\n",
    "    return base_pay\n",
    "    \n",
    "def benefits_by_category(job_category):\n",
    "    #filter out salary2012 based on jobcategory\n",
    "    category_filter = salary[salary[\"JobCategory\"] == job_category]\n",
    "    base_pay = category_filter[\"Benefits\"].mean()\n",
    "    return base_pay\n",
    "\n",
    "print(job_categories_df)\n"
   ]
  },
  {
   "cell_type": "markdown",
   "metadata": {},
   "source": [
    "Create job categories DF, which has columns for mean base pay, overtime pay, and benefits."
   ]
  },
  {
   "cell_type": "code",
   "execution_count": 11,
   "metadata": {
    "collapsed": false
   },
   "outputs": [
    {
     "name": "stdout",
     "output_type": "stream",
     "text": [
      "                Jobs   MeanTotalPay    MeanBasePay  MeanOvertimePay  \\\n",
      "Jobs                                                                  \n",
      "Nurse          Nurse   73282.154108   66027.959079      2338.770752   \n",
      "Police        Police  109546.605705   91085.425766     10712.185078   \n",
      "Transit      Transit   72593.453312   56401.095205     13420.498632   \n",
      "Clerk          Clerk   46676.352720   44977.076765      1005.281057   \n",
      "Fire            Fire  152806.496956  110557.843356     26585.318442   \n",
      "Engineer    Engineer   99886.098409   93310.735724      2706.300135   \n",
      "Custodian  Custodian   45886.872012   42148.204363      1536.028328   \n",
      "Laborer      Laborer   55261.563583   50642.433597      2813.077633   \n",
      "Attorney    Attorney  136824.235432  134335.924469        51.305706   \n",
      "Porter        Porter   46662.671172   41790.264110      3171.913438   \n",
      "Mechanic    Mechanic   94082.763210   72833.707243     13690.635789   \n",
      "\n",
      "           MeanBenefits  \n",
      "Jobs                     \n",
      "Nurse      20857.732231  \n",
      "Police     31260.735806  \n",
      "Transit    28307.918851  \n",
      "Clerk      20650.900985  \n",
      "Fire       38805.779776  \n",
      "Engineer   34032.607662  \n",
      "Custodian  21324.194653  \n",
      "Laborer    23160.314622  \n",
      "Attorney   42633.409316  \n",
      "Porter     18769.902947  \n",
      "Mechanic   30082.254114  \n"
     ]
    },
    {
     "data": {
      "image/png": "[encoded data removed]",
      "text/plain": [
       "<matplotlib.figure.Figure at 0x10a6a2978>"
      ]
     },
     "metadata": {},
     "output_type": "display_data"
    }
   ],
   "source": [
    "job_categories_df[\"MeanTotalPay\"] = job_categories_df[\"Jobs\"].map(lambda x: salary_by_category(x))\n",
    "job_categories_df[\"MeanBasePay\"] = job_categories_df[\"Jobs\"].map(lambda x: basepay_by_category(x))\n",
    "job_categories_df[\"MeanOvertimePay\"] = job_categories_df[\"Jobs\"].map(lambda x: overtime_by_category(x))\n",
    "job_categories_df[\"MeanBenefits\"] = job_categories_df[\"Jobs\"].map(lambda x: benefits_by_category(x))\n",
    "job_categories_df.index = job_categories_df[\"Jobs\"]\n",
    "print(job_categories_df)\n",
    "\n",
    "job_categories_df.plot(kind = 'bar')\n",
    "plt.ylabel(\"Mean Salary\")\n",
    "plt.xlabel(\"Job\")\n",
    "\n",
    "plt.title(\"SF Mean Average Salary by Occupation from 2011-2014\")\n",
    "plt.show()\n"
   ]
  },
  {
   "cell_type": "markdown",
   "metadata": {},
   "source": [
    "5. How is the average salary changing over time among the different job groups?"
   ]
  },
  {
   "cell_type": "code",
   "execution_count": 12,
   "metadata": {
    "collapsed": true
   },
   "outputs": [],
   "source": [
    "highest_pay_jobs = [\"Police\",\"Fire\",\"Engineer\",\"Attorney\",\"Mechanic\"]\n",
    "\n",
    "def pivot_occupation_salary(job):\n",
    "    salary_df = salary[salary[\"JobCategory\"] == job]\n",
    "    Year_totalPay = pd.DataFrame(salary_df[[\"Year\",\"TotalPay\"]])\n",
    "    Year_totalPay_pivot = pd.pivot_table(Year_totalPay,index = 'Year',values = ['TotalPay'], aggfunc=np.mean )\n",
    "    \n",
    "    return Year_totalPay_pivot\n",
    "\n",
    "police_pay_year = pivot_occupation_salary(\"Police\")\n",
    "fire_pay_year =pivot_occupation_salary(\"Fire\")\n",
    "engineer_pay_year= pivot_occupation_salary(\"Engineer\")\n",
    "attorney_pay_year=pivot_occupation_salary(\"Attorney\")\n",
    "mechanic_pay_year = pivot_occupation_salary(\"Mechanic\")"
   ]
  },
  {
   "cell_type": "code",
   "execution_count": 13,
   "metadata": {
    "collapsed": false
   },
   "outputs": [
    {
     "data": {
      "image/png": "[encoded data removed]",
      "text/plain": [
       "<matplotlib.figure.Figure at 0x10a61db00>"
      ]
     },
     "metadata": {},
     "output_type": "display_data"
    }
   ],
   "source": [
    "fig = plt.figure(figsize=(7,5))\n",
    "ax = fig.add_subplot(1,1,1)\n",
    "job_pay_year = [police_pay_year,fire_pay_year,engineer_pay_year,attorney_pay_year,mechanic_pay_year]\n",
    "for pay_year in job_pay_year:\n",
    "    ax.plot(pay_year.index, pay_year.values)\n",
    "\n",
    "\n",
    "plt.title('Average Total Pay by Year in SF')\n",
    "plt.xlabel(\"Year\")\n",
    "plt.ylabel(\"Average Total Pay\")\n",
    "plt.legend(labels = highest_pay_jobs)\n",
    "plt.show()"
   ]
  }
 ],
 "metadata": {
  "kernelspec": {
   "display_name": "Python 3",
   "language": "python",
   "name": "python3"
  },
  "language_info": {
   "codemirror_mode": {
    "name": "ipython",
    "version": 3
   },
   "file_extension": ".py",
   "mimetype": "text/x-python",
   "name": "python",
   "nbconvert_exporter": "python",
   "pygments_lexer": "ipython3",
   "version": "3.5.1"
  }
 },
 "nbformat": 4,
 "nbformat_minor": 0
}
